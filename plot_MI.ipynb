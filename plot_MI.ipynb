{
 "cells": [
  {
   "cell_type": "markdown",
   "metadata": {},
   "source": [
    "### Load the MI data"
   ]
  },
  {
   "cell_type": "code",
   "execution_count": 302,
   "metadata": {},
   "outputs": [
    {
     "name": "stdout",
     "output_type": "stream",
     "text": [
      "(2, 109, 4)\n"
     ]
    }
   ],
   "source": [
    "import numpy as np\n",
    "seed = 246\n",
    "a = np.load(f'mi_all_4_{seed}.npy')\n",
    "#a = np.load(\"results/final_tanh_246_sd01/mi_all_4_246.npy\")\n",
    "print(a.shape)\n"
   ]
  },
  {
   "cell_type": "markdown",
   "metadata": {},
   "source": [
    "### Print a part of the data"
   ]
  },
  {
   "cell_type": "code",
   "execution_count": 303,
   "metadata": {},
   "outputs": [
    {
     "name": "stdout",
     "output_type": "stream",
     "text": [
      "(109, 4)\n",
      "[[13.21156853  5.53771277  3.69010577  1.32395026]\n",
      " [13.02027069  5.65834157  4.11665885  2.19623657]\n",
      " [12.87057353  5.54944687  4.10321307  2.76784165]\n",
      " [12.65370376  5.43852378  3.76935288  2.80472724]\n",
      " [12.61679908  5.45733473  3.50542805  2.90135878]\n",
      " [12.5027399   5.20451626  3.0948843   2.66925213]\n",
      " [12.23626677  5.15264212  2.99810406  2.9154047 ]\n",
      " [12.44228686  5.14797115  2.89462159  2.93667805]\n",
      " [12.50819998  4.99221929  2.6978728   2.78457117]\n",
      " [12.35818285  4.7573552   2.60499482  2.75176828]\n",
      " [12.34261883  4.72810415  2.53088942  2.66313613]\n",
      " [12.43453313  4.46864779  2.30749806  2.58268723]\n",
      " [12.2353039   4.38939038  2.32139983  2.78796106]\n",
      " [12.35081565  4.36632429  2.41201673  2.95714446]\n",
      " [12.28313045  4.13095297  2.10890647  2.96487378]\n",
      " [12.03142983  4.20672832  2.08408542  2.9131392 ]\n",
      " [12.06738961  4.10686259  2.02658522  2.9777392 ]\n",
      " [11.9343628   3.90174059  2.02824779  3.21402839]\n",
      " [11.92967467  3.81524898  1.87494735  2.83405963]\n",
      " [12.25065548  3.88623187  1.97536869  3.03564193]\n",
      " [12.06956308  3.82764135  1.91636902  2.95413656]\n",
      " [12.15699197  3.72371594  1.884786    2.80822024]\n",
      " [11.89587553  3.64097156  1.89142926  2.66330046]\n",
      " [11.93925777  3.57267223  1.87906013  2.51886683]\n",
      " [11.78664697  3.52706619  1.84802545  2.45861359]\n",
      " [11.92473208  3.62882458  1.83833239  2.52232504]\n",
      " [11.87668583  3.51452625  1.91812652  2.52869591]\n",
      " [11.72507858  3.45289087  1.89338749  2.44549733]\n",
      " [11.65478161  3.46215236  1.87866009  2.49803058]\n",
      " [11.63745844  3.45159762  1.92205932  2.47237812]\n",
      " [11.8664745   3.38670644  1.81286442  2.43118871]\n",
      " [11.78619858  3.32826422  1.7597633   2.11376567]\n",
      " [11.84573146  3.3138205   1.72996393  2.19027332]\n",
      " [11.86394384  3.29902385  2.0150968   2.11778259]\n",
      " [11.91532345  3.36724386  1.83976021  2.04006431]\n",
      " [11.88013318  3.29452096  1.86080902  2.05679498]\n",
      " [11.76500768  3.22474154  1.82327813  2.13088529]\n",
      " [11.79184192  3.23536758  1.86901968  1.96965511]\n",
      " [11.67717917  3.20581656  1.83027452  2.03541401]\n",
      " [11.56436262  3.27108499  1.90145995  2.06642725]\n",
      " [11.46107849  3.18165992  1.79007492  2.02530877]\n",
      " [11.69428079  3.14868441  1.75778315  1.67421949]\n",
      " [11.66530641  3.06913097  1.8773635   1.51562645]\n",
      " [11.58240069  3.05280459  1.70933344  1.45219893]\n",
      " [11.36226135  3.00085245  1.64122459  1.37482554]\n",
      " [11.4475052   3.06816956  1.7394549   1.57970801]\n",
      " [11.65659132  3.01122921  1.76787402  1.27061629]\n",
      " [11.6898376   3.01958178  1.68092914  1.48263789]\n",
      " [11.49841945  2.99686794  1.75034968  1.24806299]\n",
      " [11.53237922  2.96000168  1.57747871  1.24200701]\n",
      " [11.56354961  2.94517294  1.58423067  0.88253054]\n",
      " [11.40690179  2.96274931  1.81117984  1.05707379]\n",
      " [11.48059302  2.92702456  1.66294359  1.33651835]\n",
      " [11.37836097  2.9021203   1.67220688  1.2589118 ]\n",
      " [11.3066752   2.90198344  1.54304037  1.61367147]\n",
      " [11.40214084  2.87521113  1.60220105  1.34925154]\n",
      " [11.46526122  2.8970192   1.53196196  1.26473955]\n",
      " [11.42106373  2.82611679  1.51550503  1.18169375]\n",
      " [11.45978406  2.81902246  1.4927865   0.97953389]\n",
      " [11.44165799  2.82939826  1.52039019  1.242817  ]\n",
      " [11.28186182  2.76557667  1.47375647  1.10089485]\n",
      " [11.49340907  2.74048883  1.50602766  1.04255969]\n",
      " [11.43870785  2.74586506  1.47571276  1.0683591 ]\n",
      " [11.27431498  2.73683755  1.62917403  1.01566096]\n",
      " [11.37425369  2.73481219  1.49933104  1.14822696]\n",
      " [11.37796667  2.69934201  1.534537    1.07792851]\n",
      " [11.39355595  2.70291311  1.52015139  0.90547132]\n",
      " [11.29731197  2.66030423  1.47625581  1.01548011]\n",
      " [11.3428243   2.65231284  1.50062194  1.15619947]\n",
      " [11.42131729  2.63009684  1.52606479  1.2635534 ]\n",
      " [11.35172475  2.61797158  1.56047819  1.03887335]\n",
      " [11.39448809  2.65922947  1.4752979   0.92652835]\n",
      " [11.39757128  2.58691728  1.56941392  1.22256584]\n",
      " [11.32647315  2.56782624  1.48733307  0.89523844]\n",
      " [11.36836859  2.62531198  1.5130017   0.83588664]\n",
      " [11.26526828  2.63301283  1.50708367  1.1511326 ]\n",
      " [11.29868171  2.5357932   1.53408972  0.88353492]\n",
      " [11.27065016  2.56361451  1.53235689  0.84075994]\n",
      " [11.30178798  2.54865225  1.54149608  0.90044464]\n",
      " [11.31700362  2.52655911  1.57538349  0.923242  ]\n",
      " [11.43410635  2.47834364  1.54159419  0.72187755]\n",
      " [11.46120185  2.53192761  1.5136644   0.8278345 ]\n",
      " [11.31122314  2.50577859  1.49039115  0.92637288]\n",
      " [11.33103332  2.45061174  1.45624187  1.00143121]\n",
      " [11.19580651  2.44796632  1.49076329  1.05991505]\n",
      " [11.36078715  2.43499481  1.47059941  0.98712326]\n",
      " [11.22184136  2.40695157  1.58672512  0.77274393]\n",
      " [11.23599307  2.4085808   1.56315585  0.94237295]\n",
      " [11.21753564  2.41691149  1.57853081  1.16575486]\n",
      " [11.31704387  2.41986357  1.6579366   0.99215663]\n",
      " [11.24679786  2.38352356  1.57477009  1.06986305]\n",
      " [11.11574864  2.34519112  1.55343458  1.2193766 ]\n",
      " [11.06358838  2.37757268  1.59332589  1.01958191]\n",
      " [11.19857847  2.36708605  1.53590047  1.03736021]\n",
      " [11.32433773  2.34686134  1.55998038  0.99321384]\n",
      " [11.18264518  2.36235703  1.51122907  0.96922784]\n",
      " [11.30886122  2.34899134  1.54643402  1.10774711]\n",
      " [11.09896813  2.36574473  1.5924254   1.09830159]\n",
      " [11.1240642   2.29815931  1.50167403  1.01252792]\n",
      " [11.17101675  2.28661878  1.57921715  1.1915669 ]\n",
      " [10.89315087  2.28117896  1.62224541  1.00119349]\n",
      " [10.97607087  2.23259591  1.66756677  1.17258559]\n",
      " [11.08308674  2.17775963  1.7072897   0.84928035]\n",
      " [10.90216833  2.17875707  1.69674898  1.11927297]\n",
      " [10.82833636  2.10892923  1.59036151  1.08602016]\n",
      " [10.99552956  2.12935008  1.73271946  1.19459246]\n",
      " [10.80153547  2.11195862  1.70007283  1.37485252]\n",
      " [11.01510964  2.07304166  1.62371106  1.09708407]\n",
      " [10.92177351  2.08981933  1.69527767  0.98674867]]\n",
      "[[3.2974911  2.44428074 2.03736627 2.09610684]\n",
      " [3.29000238 2.81510181 2.36244028 2.54737241]\n",
      " [3.27771075 2.7731512  2.43984944 2.69153912]\n",
      " [3.24631316 2.80556143 2.48279651 2.76075856]\n",
      " [3.23192523 2.78330572 2.49208743 2.70118822]\n",
      " [3.23935714 2.80320992 2.49252849 2.71446982]\n",
      " [3.2382925  2.78106903 2.50312201 2.70546844]\n",
      " [3.23744752 2.79871704 2.51350079 2.75011588]\n",
      " [3.22152151 2.80208916 2.54904348 2.72981234]\n",
      " [3.20906238 2.7309063  2.45098003 2.68412612]\n",
      " [3.18980751 2.78822578 2.51596979 2.70873   ]\n",
      " [3.18252568 2.73401042 2.4339089  2.72609572]\n",
      " [3.19398764 2.81404958 2.51925392 2.79104366]\n",
      " [3.19558499 2.81975958 2.5123878  2.83567277]\n",
      " [3.20148343 2.73656664 2.40494374 2.80958051]\n",
      " [3.20673243 2.74796923 2.41872398 2.80477827]\n",
      " [3.17456379 2.74419882 2.37246605 2.81234629]\n",
      " [3.16207988 2.71060782 2.34171685 2.79412346]\n",
      " [3.16888508 2.65777232 2.31256723 2.79782132]\n",
      " [3.18223799 2.64962511 2.28237644 2.77574466]\n",
      " [3.15520374 2.63439063 2.26770806 2.69523097]\n",
      " [3.17771227 2.54366664 2.2106625  2.63747804]\n",
      " [3.17964736 2.52994837 2.19461151 2.50399943]\n",
      " [3.16300389 2.48256835 2.17866914 2.32705385]\n",
      " [3.15971549 2.52855616 2.16682527 2.31505676]\n",
      " [3.17367985 2.49659643 2.17421894 2.30277266]\n",
      " [3.15135808 2.48785224 2.12261538 2.26934036]\n",
      " [3.17973561 2.45054162 2.13077493 2.28531566]\n",
      " [3.17800045 2.43929994 2.10038284 2.27582925]\n",
      " [3.1828849  2.43819004 2.11540927 2.19701831]\n",
      " [3.1834176  2.41799069 2.07276289 2.2416911 ]\n",
      " [3.15478255 2.25350216 2.03953042 2.03321128]\n",
      " [3.16811207 2.32129639 2.05149843 1.98638486]\n",
      " [3.17427731 2.37487793 2.06340561 1.9911666 ]\n",
      " [3.1705949  2.37714652 2.06943565 1.97205913]\n",
      " [3.18125248 2.29862891 2.01697433 1.96390197]\n",
      " [3.18761141 2.17636757 1.98922162 1.95520467]\n",
      " [3.16506993 2.24625237 2.00649732 1.97107302]\n",
      " [3.17093431 2.16867813 1.98037197 1.96112996]\n",
      " [3.16245366 2.14780057 1.96786175 1.97008931]\n",
      " [3.17771513 2.16147296 1.96756972 1.96560995]\n",
      " [3.16462961 2.06476596 1.94533708 1.88548767]\n",
      " [3.14614384 2.06181076 1.94505038 1.80060157]\n",
      " [3.17516635 2.03812225 1.8945113  1.74578943]\n",
      " [3.17214946 2.03585719 1.86515088 1.74532144]\n",
      " [3.17045413 2.03698312 1.85414055 1.69719025]\n",
      " [3.17142915 2.03128168 1.81651242 1.64726148]\n",
      " [3.16219974 2.01900679 1.79898992 1.63991958]\n",
      " [3.14852437 2.01864432 1.78028002 1.61550792]\n",
      " [3.14726151 2.00421117 1.73830345 1.59764089]\n",
      " [3.16725683 2.00704952 1.70963598 1.60388191]\n",
      " [3.16100356 2.01395183 1.71999346 1.62146395]\n",
      " [3.18184102 1.99392015 1.71042734 1.56435721]\n",
      " [3.16141135 1.98745774 1.66069086 1.54769307]\n",
      " [3.17093898 1.99072793 1.69422867 1.59770907]\n",
      " [3.18280753 1.96779443 1.68982615 1.56377731]\n",
      " [3.18809737 2.00144502 1.65393639 1.55814952]\n",
      " [3.18365222 1.97120245 1.60083139 1.5089713 ]\n",
      " [3.16325439 1.99759754 1.66445481 1.5185798 ]\n",
      " [3.17307102 1.97359693 1.59604849 1.5180262 ]\n",
      " [3.17556335 1.96026969 1.62293164 1.48724882]\n",
      " [3.18196418 1.93208054 1.59180905 1.49940803]\n",
      " [3.16911255 1.94832595 1.59254082 1.49621103]\n",
      " [3.16257765 1.93518921 1.58604483 1.51807974]\n",
      " [3.16299859 1.95762561 1.57820011 1.48534713]\n",
      " [3.15563079 1.90223743 1.5395828  1.49284372]\n",
      " [3.16249415 1.92951322 1.56318022 1.49963261]\n",
      " [3.15287412 1.92347837 1.53380007 1.49109436]\n",
      " [3.16738417 1.90609972 1.54758531 1.47372327]\n",
      " [3.15324554 1.91575487 1.51039311 1.48519161]\n",
      " [3.16714173 1.88668025 1.51987011 1.47019902]\n",
      " [3.16304234 1.94401842 1.54790405 1.48253877]\n",
      " [3.15705794 1.92163    1.55186181 1.46229598]\n",
      " [3.15985991 1.91093078 1.51759504 1.49372808]\n",
      " [3.15652352 1.91376119 1.53843839 1.50408143]\n",
      " [3.16155104 1.89767105 1.51201656 1.46152409]\n",
      " [3.15099617 1.88860107 1.44035179 1.40278778]\n",
      " [3.1667109  1.90832423 1.50743436 1.43097717]\n",
      " [3.16112563 1.86384584 1.4877343  1.41245177]\n",
      " [3.14983594 1.85399736 1.41888333 1.42835375]\n",
      " [3.16044191 1.85679987 1.47706846 1.39626258]\n",
      " [3.15848607 1.86795386 1.47014493 1.45225377]\n",
      " [3.15747241 1.8811433  1.4960486  1.4520662 ]\n",
      " [3.14841298 1.84791627 1.44987448 1.36301254]\n",
      " [3.13246616 1.8511307  1.45239099 1.49196591]\n",
      " [3.13643086 1.84522139 1.39018863 1.37596482]\n",
      " [3.14922719 1.83940714 1.48204231 1.42167348]\n",
      " [3.13739254 1.81822864 1.42292517 1.28102932]\n",
      " [3.14696769 1.80464333 1.393978   1.37832347]\n",
      " [3.135943   1.82939829 1.45038013 1.39604193]\n",
      " [3.13939066 1.76057424 1.44138118 1.32709299]\n",
      " [3.13122518 1.75354055 1.37250497 1.34681472]\n",
      " [3.14935681 1.78320414 1.38090818 1.30209709]\n",
      " [3.14727195 1.7766113  1.37489459 1.3208826 ]\n",
      " [3.14207223 1.7312534  1.36676173 1.29718279]\n",
      " [3.1533419  1.75224379 1.34293983 1.29675097]\n",
      " [3.15482927 1.77643615 1.3526851  1.25517923]\n",
      " [3.15233997 1.76235427 1.38904269 1.25021318]\n",
      " [3.13537358 1.71547766 1.35869803 1.26246447]\n",
      " [3.1329651  1.67585481 1.3807879  1.30424463]\n",
      " [3.13139001 1.66530058 1.28699918 1.22987004]\n",
      " [3.13357736 1.65256667 1.29553849 1.31775675]\n",
      " [3.13049077 1.64638234 1.30559848 1.22232887]\n",
      " [3.12079708 1.63823464 1.30183304 1.2635796 ]\n",
      " [3.10718544 1.62089444 1.25743551 1.270278  ]\n",
      " [3.11821584 1.60436396 1.25703942 1.18751276]\n",
      " [3.1129102  1.59692995 1.26356283 1.16489541]\n",
      " [3.10563883 1.56344614 1.24689515 1.21630157]\n",
      " [3.10712053 1.52771543 1.25888671 1.20273792]]\n"
     ]
    }
   ],
   "source": [
    "mi_xt_mean = a[0]\n",
    "mi_ty_mean = a[1]\n",
    "#mi_xt_mean = a[0,0,:,:]\n",
    "#mi_ty_mean = a[0,1,:,:]\n",
    "print(mi_xt_mean.shape)\n",
    "print(mi_xt_mean)\n",
    "print(mi_ty_mean)"
   ]
  },
  {
   "cell_type": "markdown",
   "metadata": {},
   "source": [
    "### Sample from the MI data"
   ]
  },
  {
   "cell_type": "code",
   "execution_count": 304,
   "metadata": {},
   "outputs": [
    {
     "name": "stdout",
     "output_type": "stream",
     "text": [
      "(37, 4)\n"
     ]
    }
   ],
   "source": [
    "IXM_N = mi_xt_mean[0,:]\n",
    "IYM_N = mi_ty_mean[0,:]\n",
    "\n",
    "T =1\n",
    "\n",
    "for i in range(1,mi_xt_mean.shape[0]):\n",
    "    \n",
    "    A_ = i <= 4 and i % 1 == 0  \n",
    "    A0 = i > 4 and i <= 10 and i % 2 == 0    \n",
    "    A1 = i > 10 and i <= 30 and i % 3 == 0     \n",
    "    A2 = i > 30 and i % 3 == 0    \n",
    "\n",
    "    #if A0 or A1 or A2:\n",
    "    if  A0 or A1 or A2:\n",
    "        mean_vec_xt = np.mean(mi_xt_mean[T:i+1,:],axis=0)\n",
    "        mean_vec_yt = np.mean(mi_ty_mean[T:i+1,:],axis=0)  \n",
    "                             \n",
    "        #print(T,i+1)                      \n",
    "        IXM_N = np.append(IXM_N,mean_vec_xt)\n",
    "        IYM_N = np.append(IYM_N,mean_vec_yt)\n",
    "        \n",
    "        T = i+1\n",
    "\n",
    "        \n",
    "IXM_N = np.reshape(IXM_N,(-1,4))\n",
    "IYM_N = np.reshape(IYM_N,(-1,4))\n",
    "print(IXM_N.shape)"
   ]
  },
  {
   "cell_type": "code",
   "execution_count": null,
   "metadata": {},
   "outputs": [],
   "source": []
  },
  {
   "cell_type": "markdown",
   "metadata": {},
   "source": [
    "### Data shape"
   ]
  },
  {
   "cell_type": "code",
   "execution_count": 305,
   "metadata": {},
   "outputs": [
    {
     "name": "stdout",
     "output_type": "stream",
     "text": [
      "(109, 4)\n",
      "(109, 4)\n"
     ]
    }
   ],
   "source": [
    "#mi_ty_mean[0:10,3]=np.array(mi_ty_mean[0:10,3])\n",
    "IXM_N, IYM_N = mi_ty_mean, mi_ty_mean\n",
    "print(IXM_N.shape)\n",
    "print(IYM_N.shape)"
   ]
  },
  {
   "cell_type": "markdown",
   "metadata": {},
   "source": [
    "### Apply roling mean"
   ]
  },
  {
   "cell_type": "code",
   "execution_count": 306,
   "metadata": {},
   "outputs": [
    {
     "name": "stdout",
     "output_type": "stream",
     "text": [
      "(107, 4)\n",
      "(107, 4)\n"
     ]
    }
   ],
   "source": [
    "import pandas as pd\n",
    "T=3\n",
    "IXM_N, IYM_N = np.zeros((mi_xt_mean.shape[0]-T+1,4)), np.zeros((mi_ty_mean.shape[0]-T+1,4))\n",
    "\n",
    "for i in range(4):\n",
    "    IXM_N[:, i] = pd.Series(mi_xt_mean[:, i]).rolling(window=T).mean()[T-1:].to_numpy()\n",
    "    IYM_N[:, i] = pd.Series(mi_ty_mean[:, i]).rolling(window=T).mean()[T-1:].to_numpy()\n",
    "\n",
    "\n",
    "    \n",
    "print(IXM_N.shape)\n",
    "print(IYM_N.shape)"
   ]
  },
  {
   "cell_type": "markdown",
   "metadata": {},
   "source": [
    "### Plot Information Plane"
   ]
  },
  {
   "cell_type": "code",
   "execution_count": 186,
   "metadata": {},
   "outputs": [
    {
     "name": "stderr",
     "output_type": "stream",
     "text": [
      "/var/folders/s8/kjdbnzj17y733ddxj8c_0c080000gn/T/ipykernel_16551/1709962187.py:66: UserWarning: This figure includes Axes that are not compatible with tight_layout, so results might be incorrect.\n",
      "  plt.tight_layout()\n"
     ]
    }
   ],
   "source": [
    "\n",
    "\n",
    "#%matplotlib inline\n",
    "import matplotlib\n",
    "matplotlib.use('TkAgg')\n",
    "\n",
    "import matplotlib.pyplot as plt\n",
    "import matplotlib.gridspec as gridspec\n",
    "import seaborn as sns\n",
    "sns.set_style('darkgrid')\n",
    "\n",
    "\n",
    "plt.figure(figsize=(8,8))\n",
    "gs = gridspec.GridSpec(4,2)\n",
    "#for actndx, (activation, vals) in enumerate(measures.items()):\n",
    "#    epochs = sorted(vals.keys())\n",
    "#    if not len(epochs):\n",
    "#        continue\n",
    "\n",
    "COLORBAR_MAX_EPOCHS=5000 # initially 15000\n",
    "\n",
    "plt.tight_layout()        \n",
    "\n",
    "fig=plt.figure(figsize=(10,5))\n",
    "\n",
    "#max_epoch = max( (max(vals.keys()) if len(vals) else 0) for vals in measures.values())\n",
    "sm = plt.cm.ScalarMappable(cmap='gnuplot', norm=plt.Normalize(vmin=0, vmax=COLORBAR_MAX_EPOCHS))\n",
    "sm._A = []\n",
    "\n",
    "#fig=plt.figure(figsize=(10,5))\n",
    "#for actndx, (activation, vals) in enumerate(measures.items()):\n",
    "#    epochs = sorted(vals.keys())\n",
    "#    if not len(epochs):\n",
    "#        continue\n",
    "#    plt.subplot(1,2,actndx+1)    \n",
    "    \n",
    "    \n",
    "#n_epoch = mi_xt_mean.shape[0]\n",
    "n_epoch = IXM_N.shape[0]\n",
    "\n",
    "PLOT_LAYERS = [0]\n",
    "for epoch in range(0,76): # from n_epoch, 76 for first 1000\n",
    "    c = sm.to_rgba(220*(epoch))\n",
    "    #xmvals = np.array(vals[epoch]['MI_XM'])[PLOT_LAYERS]\n",
    "    #ymvals = np.array(vals[epoch]['MI_YM'])[PLOT_LAYERS]\n",
    "\n",
    "    #xmvals = mi_xt_mean[epoch] \n",
    "    #ymvals = mi_ty_mean[epoch]\n",
    "    xmvals = IXM_N[epoch] \n",
    "    ymvals = IYM_N[epoch]\n",
    "    \n",
    "    plt.plot(xmvals, ymvals, c=c, alpha=0.1, zorder=1)\n",
    "    plt.scatter(xmvals, ymvals, s=40, facecolors=[c for _ in PLOT_LAYERS], edgecolor='none', zorder=2)\n",
    "    \n",
    "plt.ylim([2.3, 3.5]) # 1 - 3.5\n",
    "plt.xlim([3, 14]) # 4 - 14\n",
    "plt.xlabel('I(X;M)')\n",
    "plt.ylabel('I(Y;M)')\n",
    "plt.title('Tanh')\n",
    "    \n",
    "# colorbar\n",
    "  \n",
    "cbaxes = fig.add_axes([1.0, 0.125, 0.03, 0.8]) \n",
    "plt.colorbar(sm, label='Epoch', cax=cbaxes)\n",
    "#plt.colorbar(sm, label='Epoch')\n",
    "\n",
    "\n",
    "plt.tight_layout()\n",
    "\n",
    "plt.show()"
   ]
  },
  {
   "cell_type": "code",
   "execution_count": 311,
   "metadata": {},
   "outputs": [
    {
     "name": "stdout",
     "output_type": "stream",
     "text": [
      "(109,)\n"
     ]
    },
    {
     "name": "stderr",
     "output_type": "stream",
     "text": [
      "/var/folders/s8/kjdbnzj17y733ddxj8c_0c080000gn/T/ipykernel_16551/2391542994.py:38: UserWarning: This figure includes Axes that are not compatible with tight_layout, so results might be incorrect.\n",
      "  plt.tight_layout(rect=[0, 0, 0.85, 1])  # Leave space for the colorbar\n"
     ]
    }
   ],
   "source": [
    "import matplotlib.pyplot as plt\n",
    "import matplotlib.gridspec as gridspec\n",
    "import matplotlib.colors as mcolors\n",
    "import numpy as np\n",
    "import matplotlib.cm as cm\n",
    "\n",
    "# Mock data for demonstration\n",
    "n_epoch = IXM_N.shape[0]\n",
    "epochs = np.load(\"mi_epoch_4_246.npy\")\n",
    "print(epochs.shape)\n",
    "\n",
    "COLORBAR_MAX_EPOCHS = 5000\n",
    "\n",
    "# Set up the figure and color map\n",
    "fig, ax = plt.subplots(figsize=(8, 8))\n",
    "sm = plt.cm.ScalarMappable(cmap='gnuplot', norm=mcolors.LogNorm(vmin=1, vmax=COLORBAR_MAX_EPOCHS))\n",
    "\n",
    "# Plot the data\n",
    "for epoch in range(1,n_epoch):\n",
    "    c = sm.to_rgba(epochs[epoch])\n",
    "    xmvals = IXM_N[epoch]\n",
    "    ymvals = IYM_N[epoch]\n",
    "    ax.plot(xmvals, ymvals, c=c, alpha=0.1, zorder=1)\n",
    "    ax.scatter(xmvals, ymvals, s=40, facecolors=[c], edgecolor='none', zorder=2)\n",
    "\n",
    "# Set axis limits and labels\n",
    "ax.set_ylim([1, 3.5])\n",
    "ax.set_xlim([0, 14])\n",
    "ax.set_xlabel('I(X;M)')\n",
    "ax.set_ylabel('I(Y;M)')\n",
    "ax.set_title('ReLu')\n",
    "\n",
    "# Add the colorbar\n",
    "cbaxes = fig.add_axes([0.85, 0.125, 0.03, 0.75])  # Adjust position and size\n",
    "plt.colorbar(sm, label='Epoch', cax=cbaxes)\n",
    "\n",
    "# Adjust layout\n",
    "plt.tight_layout(rect=[0, 0, 0.85, 1])  # Leave space for the colorbar\n",
    "plt.show()\n"
   ]
  },
  {
   "cell_type": "code",
   "execution_count": 331,
   "metadata": {},
   "outputs": [
    {
     "name": "stdout",
     "output_type": "stream",
     "text": [
      "(109, 4, 10) (109,)\n"
     ]
    }
   ],
   "source": [
    "## plot cluster distances\n",
    "distances = np.load(f\"cluster_distances_4_{seed}.npy\")\n",
    "epochs = np.load(f\"mi_epoch_4_{seed}.npy\")\n",
    "# distances = np.load(\"results/final_tanh_246_sd01/cluster_distances_4_246.npy\")\n",
    "# epochs = np.load(\"results/final_tanh_246_sd01/mi_epoch_4_246.npy\")\n",
    "print(distances.shape, epochs.shape)"
   ]
  },
  {
   "cell_type": "code",
   "execution_count": 339,
   "metadata": {},
   "outputs": [],
   "source": [
    "fig, ax = plt.subplots(2, 2)\n",
    "labels = [str(i) for i in range(10)]\n",
    "ax = ax.ravel()\n",
    "\n",
    "for i in range(4):\n",
    "    for j in range(10):\n",
    "        ax[i].plot(epochs, distances[:,i,j], label=labels[j])\n",
    "    ax[i].set_title(f'Layer {i+1}')\n",
    "    ax[i].set_xlabel('Epoch')\n",
    "    ax[i].set_ylabel('Mean Distance')\n",
    "    ax[i].grid(True)\n",
    "\n",
    "handles, _ = ax[0].get_legend_handles_labels()\n",
    "ax[1].set_ylim([0,300])\n",
    "ax[2].set_ylim([0,300])\n",
    "ax[3].set_ylim([0,225])\n",
    "\n",
    "fig.legend(handles, labels, loc='lower center', bbox_to_anchor=(0.5, -0.0), fontsize='x-small', ncol=5)\n",
    "fig.tight_layout(rect=[0, 0.1, 1, 1])  # Reserve space on the right for the legend\n",
    "plt.show()"
   ]
  },
  {
   "cell_type": "code",
   "execution_count": 333,
   "metadata": {},
   "outputs": [],
   "source": [
    "fig, ax = plt.subplots(2, 2)\n",
    "labels = [str(i) for i in range(10)]\n",
    "ax = ax.ravel()\n",
    "\n",
    "for i in range(4):\n",
    "    for j in range(10):\n",
    "        ax[i].plot(epochs[:41], distances[:41,i,j], label=labels[j])\n",
    "    ax[i].set_title(f'Layer {i+1}')\n",
    "    ax[i].set_xlabel('Epoch')\n",
    "    ax[i].set_ylabel('Mean Distance')\n",
    "    ax[i].grid(True)\n",
    "\n",
    "handles, _ = ax[0].get_legend_handles_labels()\n",
    "\n",
    "\n",
    "fig.legend(handles, labels, loc='lower center', bbox_to_anchor=(0.5, -0.0), fontsize='x-small', ncol=5)\n",
    "fig.tight_layout(rect=[0, 0.1, 1, 1])  # Reserve space on the right for the legend\n",
    "plt.show()"
   ]
  },
  {
   "cell_type": "code",
   "execution_count": 313,
   "metadata": {},
   "outputs": [
    {
     "name": "stdout",
     "output_type": "stream",
     "text": [
      "(109, 4, 3)\n"
     ]
    }
   ],
   "source": [
    "## BINNED ENTROPY QUANTIZED\n",
    "quant_ent = np.load(\"binned_entropy_4_246.npy\")\n",
    "print(quant_ent.shape)"
   ]
  },
  {
   "cell_type": "code",
   "execution_count": 316,
   "metadata": {},
   "outputs": [],
   "source": [
    "fig, ax = plt.subplots(2, 2)\n",
    "labels = [\"10\", \"30\", \"100\"]\n",
    "ax = ax.ravel()\n",
    "\n",
    "for i in range(4):\n",
    "    for j in range(3):\n",
    "        ax[i].plot(epochs, quant_ent[:,i,j], label=labels[j])\n",
    "    \n",
    "    ax[i].set_title(f'Layer {i+1}')\n",
    "    ax[i].set_xlabel('Epoch')\n",
    "    ax[i].set_ylabel('Quantized Entropy, nats')\n",
    "    ax[i].grid(True)\n",
    "\n",
    "ax[0].set_ylim(9,9.3)\n",
    "handles, _ = ax[0].get_legend_handles_labels()\n",
    "\n",
    "\n",
    "fig.legend(handles, labels, loc='lower center', bbox_to_anchor=(0.5, -0.0), fontsize='x-small', ncol=5)\n",
    "fig.tight_layout(rect=[0, 0.1, 1, 1])  # Reserve space on the right for the legend\n",
    "plt.show()"
   ]
  },
  {
   "cell_type": "code",
   "execution_count": 317,
   "metadata": {},
   "outputs": [
    {
     "name": "stdout",
     "output_type": "stream",
     "text": [
      "(65, 5)\n"
     ]
    },
    {
     "data": {
      "text/plain": [
       "array([[6.94266667e-01, 0.00000000e+00],\n",
       "       [9.01850000e-01, 1.00000000e+01],\n",
       "       [9.40133333e-01, 2.00000000e+01],\n",
       "       [9.45750000e-01, 3.00000000e+01],\n",
       "       [9.50800000e-01, 4.00000000e+01],\n",
       "       [9.52633333e-01, 5.00000000e+01],\n",
       "       [9.57700000e-01, 6.00000000e+01],\n",
       "       [9.56850000e-01, 7.00000000e+01],\n",
       "       [9.60300000e-01, 8.00000000e+01],\n",
       "       [9.58650000e-01, 9.00000000e+01],\n",
       "       [9.63316667e-01, 1.00000000e+02],\n",
       "       [9.62350000e-01, 1.10000000e+02],\n",
       "       [9.59233333e-01, 1.20000000e+02],\n",
       "       [9.65333333e-01, 1.30000000e+02],\n",
       "       [9.65283333e-01, 1.40000000e+02],\n",
       "       [9.64016667e-01, 1.50000000e+02],\n",
       "       [9.67566667e-01, 2.00000000e+02],\n",
       "       [9.72350000e-01, 3.00000000e+02],\n",
       "       [9.74350000e-01, 4.00000000e+02],\n",
       "       [9.76716667e-01, 5.00000000e+02],\n",
       "       [9.78200000e-01, 6.00000000e+02],\n",
       "       [9.79533333e-01, 7.00000000e+02],\n",
       "       [9.77433333e-01, 8.00000000e+02],\n",
       "       [9.80966667e-01, 9.00000000e+02],\n",
       "       [9.80150000e-01, 1.00000000e+03],\n",
       "       [9.80350000e-01, 1.10000000e+03],\n",
       "       [9.80733333e-01, 1.20000000e+03],\n",
       "       [9.81916667e-01, 1.30000000e+03],\n",
       "       [9.80783333e-01, 1.40000000e+03],\n",
       "       [9.82266667e-01, 1.50000000e+03],\n",
       "       [9.81816667e-01, 1.60000000e+03],\n",
       "       [9.81316667e-01, 1.70000000e+03],\n",
       "       [9.83066667e-01, 1.80000000e+03],\n",
       "       [9.82650000e-01, 1.90000000e+03],\n",
       "       [9.82900000e-01, 2.00000000e+03],\n",
       "       [9.84000000e-01, 2.10000000e+03],\n",
       "       [9.82900000e-01, 2.20000000e+03],\n",
       "       [9.81400000e-01, 2.30000000e+03],\n",
       "       [9.83050000e-01, 2.40000000e+03],\n",
       "       [9.84216667e-01, 2.50000000e+03],\n",
       "       [9.84816667e-01, 2.60000000e+03],\n",
       "       [9.83316667e-01, 2.70000000e+03],\n",
       "       [9.82916667e-01, 2.80000000e+03],\n",
       "       [9.85450000e-01, 2.90000000e+03],\n",
       "       [9.83583333e-01, 3.00000000e+03],\n",
       "       [9.84966667e-01, 3.10000000e+03],\n",
       "       [9.83566667e-01, 3.20000000e+03],\n",
       "       [9.84666667e-01, 3.30000000e+03],\n",
       "       [9.84250000e-01, 3.40000000e+03],\n",
       "       [9.83750000e-01, 3.50000000e+03],\n",
       "       [9.84383333e-01, 3.60000000e+03],\n",
       "       [9.82516667e-01, 3.70000000e+03],\n",
       "       [9.84383333e-01, 3.80000000e+03],\n",
       "       [9.82800000e-01, 3.90000000e+03],\n",
       "       [9.82233333e-01, 4.00000000e+03],\n",
       "       [9.83050000e-01, 4.10000000e+03],\n",
       "       [9.81500000e-01, 4.20000000e+03],\n",
       "       [9.81600000e-01, 4.30000000e+03],\n",
       "       [9.82350000e-01, 4.40000000e+03],\n",
       "       [9.83566667e-01, 4.50000000e+03],\n",
       "       [9.83616667e-01, 4.60000000e+03],\n",
       "       [9.82000000e-01, 4.70000000e+03],\n",
       "       [9.84033333e-01, 4.80000000e+03],\n",
       "       [9.81333333e-01, 4.90000000e+03],\n",
       "       [9.81033333e-01, 5.00000000e+03]])"
      ]
     },
     "execution_count": 317,
     "metadata": {},
     "output_type": "execute_result"
    }
   ],
   "source": [
    "## PLOT TRAINING\n",
    "train_data = np.load(f\"train_4_{seed}.npy\")\n",
    "#train_data = np.load(f\"results/4_12/train_4_12.npy\")\n",
    "print(train_data.shape)\n",
    "train_data[:,[1,4]]"
   ]
  },
  {
   "cell_type": "code",
   "execution_count": 318,
   "metadata": {},
   "outputs": [],
   "source": [
    "fig, ax = plt.subplots(2)\n",
    "ax[0].plot(train_data[:,4],train_data[:,0], label=\"Train loss\")\n",
    "ax[1].plot(train_data[:,4],train_data[:,1], label=\"Train Acc\")\n",
    "ax[0].plot(train_data[:,4],train_data[:,2], label=\"Test loss\")\n",
    "ax[1].plot(train_data[:,4],train_data[:,3], label=\"Test Acc\")\n",
    "ax[0].set_xlabel(\"Epoch\")\n",
    "ax[1].set_xlabel(\"Epoch\")\n",
    "ax[0].set_title(\"Loss\")\n",
    "ax[1].set_title(\"Accuracy\")\n",
    "ax[0].legend()\n",
    "ax[1].legend()\n",
    "fig.tight_layout()\n",
    "plt.show()"
   ]
  },
  {
   "cell_type": "code",
   "execution_count": 319,
   "metadata": {},
   "outputs": [],
   "source": [
    "## Plot MI w/ EDGE over epochs\n",
    "fig, ax = plt.subplots(2)\n",
    "labels = [\"Layer 1\", \"Layer 2\", \"Layer 3\", \"Layer 4\"]\n",
    "\n",
    "for i in range(2):\n",
    "    for j in range(4):\n",
    "        ax[i].plot(epochs, a[i,:,j], label=labels[j])\n",
    "    \n",
    "    ax[i].set_xlabel('Epoch')\n",
    "    ax[i].set_ylabel('MI')\n",
    "    ax[i].grid(True)\n",
    "\n",
    "ax[0].set_title(\"MI(X,M), EDGE\")\n",
    "ax[1].set_title(\"MI(M,Y), EDGE\")\n",
    "handles, _ = ax[0].get_legend_handles_labels()\n",
    "\n",
    "\n",
    "fig.legend(handles, labels, loc='lower center', bbox_to_anchor=(0.5, -0.0), fontsize='x-small', ncol=5)\n",
    "fig.tight_layout(rect=[0, 0.1, 1, 1])  # Reserve space on the right for the legend\n",
    "plt.show()"
   ]
  },
  {
   "cell_type": "code",
   "execution_count": 320,
   "metadata": {},
   "outputs": [],
   "source": [
    "fig, ax = plt.subplots()\n",
    "labels = [\"Layer 2\", \"Layer 3\", \"Layer 4\"]\n",
    "for i in range(3):\n",
    "    ax.plot(epochs[15:100],a[0,15:100,i+1], label=labels[i])\n",
    "\n",
    "ax.set_xlabel(\"Epoch\")\n",
    "ax.set_ylabel(\"MI\")\n",
    "ax.set_title(\"MI(X;M), EDGE\")\n",
    "handles, _ = ax.get_legend_handles_labels()\n",
    "fig.legend()\n",
    "fig.tight_layout(rect=[0,0,1,1])\n",
    "plt.show()"
   ]
  },
  {
   "cell_type": "code",
   "execution_count": 274,
   "metadata": {},
   "outputs": [
    {
     "name": "stdout",
     "output_type": "stream",
     "text": [
      "(4, 2)\n",
      "(109, 4, 3)\n",
      "SignificanceResult(statistic=nan, pvalue=nan)\n",
      "SignificanceResult(statistic=0.9971550366045779, pvalue=5.656929819723255e-122)\n",
      "SignificanceResult(statistic=0.9949031600407748, pvalue=1.88292216145391e-108)\n",
      "SignificanceResult(statistic=0.9695857659160412, pvalue=3.112175061677024e-67)\n",
      "[[            nan             nan]\n",
      " [9.97155037e-001 5.65692982e-122]\n",
      " [9.94903160e-001 1.88292216e-108]\n",
      " [9.69585766e-001 3.11217506e-067]]\n"
     ]
    },
    {
     "name": "stderr",
     "output_type": "stream",
     "text": [
      "/var/folders/s8/kjdbnzj17y733ddxj8c_0c080000gn/T/ipykernel_16551/1096140510.py:7: ConstantInputWarning: An input array is constant; the correlation coefficient is not defined.\n",
      "  res = spearmanr(quant_ent[:,i,2],a[0,:,i]) # we use max number of bins since entropy estimate is more reliable\n"
     ]
    }
   ],
   "source": [
    "from scipy.stats import spearmanr\n",
    "\n",
    "corr = np.zeros((quant_ent.shape[1],2))\n",
    "print(corr.shape)\n",
    "print(quant_ent.shape)\n",
    "for i in range(quant_ent.shape[1]):\n",
    "    res = spearmanr(quant_ent[:,i,2],a[0,:,i]) # we use max number of bins since entropy estimate is more reliable\n",
    "    print(res)\n",
    "    corr[i,0], corr[i,1] = res.statistic, res.pvalue\n",
    "\n",
    "print(corr)"
   ]
  }
 ],
 "metadata": {
  "kernelspec": {
   "display_name": "ibenv2",
   "language": "python",
   "name": "python3"
  },
  "language_info": {
   "codemirror_mode": {
    "name": "ipython",
    "version": 3
   },
   "file_extension": ".py",
   "mimetype": "text/x-python",
   "name": "python",
   "nbconvert_exporter": "python",
   "pygments_lexer": "ipython3",
   "version": "3.9.18"
  }
 },
 "nbformat": 4,
 "nbformat_minor": 2
}
